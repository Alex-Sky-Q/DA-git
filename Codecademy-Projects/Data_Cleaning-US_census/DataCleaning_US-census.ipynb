{
 "cells": [
  {
   "cell_type": "code",
   "execution_count": 31,
   "id": "6d0b08dd",
   "metadata": {},
   "outputs": [
    {
     "name": "stdout",
     "output_type": "stream",
     "text": [
      "   Unnamed: 0       State  TotalPop             Hispanic                White  \\\n",
      "0           0     Alabama   4830620  3.7516156462584975%     61.878656462585%   \n",
      "1           1      Alaska    733375   5.909580838323351%  60.910179640718574%   \n",
      "2           2     Arizona   6641928  29.565921052631502%  57.120000000000026%   \n",
      "3           3    Arkansas   2958208   6.215474452554738%   71.13781021897813%   \n",
      "4           4  California  38421464  37.291874687968054%   40.21578881677474%   \n",
      "\n",
      "                 Black                Native                Asian  \\\n",
      "0   31.25297619047618%   0.4532312925170065%  1.0502551020408146%   \n",
      "1  2.8485029940119775%    16.39101796407186%   5.450299401197604%   \n",
      "2  3.8509868421052658%     4.35506578947368%   2.876578947368419%   \n",
      "3  18.968759124087573%   0.5229197080291965%  1.1423357664233578%   \n",
      "4   5.677396405391911%  0.40529206190713685%  13.052234148776776%   \n",
      "\n",
      "                Pacific              Income            GenderPop  \n",
      "0  0.03435374149659865%  $43296.35860306644    2341093M_2489527F  \n",
      "1   1.0586826347305378%  $70354.74390243902      384160M_349215F  \n",
      "2  0.16763157894736833%  $54207.82095490716    3299088M_3342840F  \n",
      "3  0.14686131386861315%  $41935.63396778917    1451913M_1506295F  \n",
      "4  0.35141038442336353%  $67264.78230266465  19087135M_19334329F  \n"
     ]
    }
   ],
   "source": [
    "import pandas as pd\n",
    "import numpy as np\n",
    "import matplotlib.pyplot as plt\n",
    "import string as str\n",
    "import glob\n",
    "\n",
    "files = glob.glob('states*.csv')\n",
    "data = [pd.read_csv(f) for f in files]\n",
    "us_census = pd.concat(data)\n",
    "print(us_census.head())"
   ]
  },
  {
   "cell_type": "code",
   "execution_count": 32,
   "id": "e5ff602d",
   "metadata": {},
   "outputs": [
    {
     "name": "stdout",
     "output_type": "stream",
     "text": [
      "State        object\n",
      "TotalPop      int64\n",
      "Hispanic     object\n",
      "White        object\n",
      "Black        object\n",
      "Native       object\n",
      "Asian        object\n",
      "Pacific      object\n",
      "Income      float64\n",
      "Men           int64\n",
      "Women         int32\n",
      "dtype: object\n"
     ]
    }
   ],
   "source": [
    "us_census.Income = us_census.Income.replace('\\$', '', regex=True)\n",
    "pop_split = us_census.GenderPop.str.split('_', expand=True)\n",
    "us_census['Men'] = pop_split[0].str.strip('M')\n",
    "us_census['Women'] = pop_split[1].str.strip('F')\n",
    "us_census = us_census.drop(['GenderPop', 'Unnamed: 0'], axis=1)\n",
    "\n",
    "us_census.Men = pd.to_numeric(us_census.Men)\n",
    "us_census.Women = pd.to_numeric(us_census.Women)\n",
    "us_census.Income = pd.to_numeric(us_census.Income)\n",
    "\n",
    "us_census.fillna(value={'Women': us_census.TotalPop - us_census.Men}, inplace=True)\n",
    "us_census.Women = pd.to_numeric(us_census.Women, downcast='integer')\n",
    "\n",
    "us_census = us_census.drop_duplicates()\n",
    "# print(us_census.duplicated())\n",
    "print(us_census.dtypes)"
   ]
  },
  {
   "cell_type": "code",
   "execution_count": 33,
   "id": "b07fb1aa",
   "metadata": {},
   "outputs": [
    {
     "data": {
      "image/png": "[encoded data removed]",
      "text/plain": [
       "<Figure size 432x288 with 1 Axes>"
      ]
     },
     "metadata": {
      "needs_background": "light"
     },
     "output_type": "display_data"
    }
   ],
   "source": [
    "plt.scatter(us_census.Men / us_census.TotalPop, us_census.Income)\n",
    "plt.show()\n",
    "plt.close()"
   ]
  },
  {
   "cell_type": "code",
   "execution_count": 34,
   "id": "be0dc46c",
   "metadata": {},
   "outputs": [
    {
     "name": "stdout",
     "output_type": "stream",
     "text": [
      "State        object\n",
      "TotalPop      int64\n",
      "Hispanic    float64\n",
      "White       float64\n",
      "Black       float64\n",
      "Native      float64\n",
      "Asian       float64\n",
      "Pacific     float64\n",
      "Income      float64\n",
      "Men           int64\n",
      "Women         int32\n",
      "dtype: object\n"
     ]
    }
   ],
   "source": [
    "us_census.Hispanic = us_census.Hispanic.str.strip('%')\n",
    "us_census.White = us_census.White.str.strip('%')\n",
    "us_census.Black = us_census.Black.str.strip('%')\n",
    "us_census.Native = us_census.Native.str.strip('%')\n",
    "us_census.Asian = us_census.Asian.str.strip('%')\n",
    "us_census.Pacific = us_census.Pacific.str.strip('%')\n",
    "\n",
    "us_census.Hispanic = pd.to_numeric(us_census.Hispanic)\n",
    "us_census.White = pd.to_numeric(us_census.White)\n",
    "us_census.Black = pd.to_numeric(us_census.Black)\n",
    "us_census.Native = pd.to_numeric(us_census.Native)\n",
    "us_census.Asian = pd.to_numeric(us_census.Asian)\n",
    "us_census.Pacific = pd.to_numeric(us_census.Pacific)\n",
    "print(us_census.dtypes)\n",
    "\n",
    "us_census.fillna(value={'Pacific': 0}, inplace=True)\n",
    "# print(us_census.isna().any())"
   ]
  },
  {
   "cell_type": "code",
   "execution_count": 36,
   "id": "9903df1b",
   "metadata": {},
   "outputs": [
    {
     "name": "stdout",
     "output_type": "stream",
     "text": [
      "       State  TotalPop        Income      Men    Women      Race   RacePerc\n",
      "0    Alabama   4830620  43296.358603  2341093  2489527  Hispanic   3.751616\n",
      "102  Alabama   4830620  43296.358603  2341093  2489527     Black  31.252976\n",
      "153  Alabama   4830620  43296.358603  2341093  2489527    Native   0.453231\n",
      "204  Alabama   4830620  43296.358603  2341093  2489527     Asian   1.050255\n",
      "255  Alabama   4830620  43296.358603  2341093  2489527   Pacific   0.034354\n"
     ]
    }
   ],
   "source": [
    "us_census_melt = us_census.melt(id_vars=['State', 'TotalPop', 'Income', 'Men', 'Women'],\n",
    "                                value_vars=['Hispanic', 'White', 'Black', 'Native', 'Asian', 'Pacific'],\n",
    "                                var_name='Race', value_name='RacePerc').sort_values('State')\n",
    "print(us_census_melt.head())"
   ]
  },
  {
   "cell_type": "code",
   "execution_count": 39,
   "id": "ab040650",
   "metadata": {},
   "outputs": [
    {
     "name": "stdout",
     "output_type": "stream",
     "text": [
      "       Race   RacePerc\n",
      "5     White  67.260478\n",
      "2  Hispanic  12.648577\n",
      "1     Black  11.944896\n",
      "0     Asian   3.644623\n",
      "3    Native   1.548132\n",
      "4   Pacific   0.282461\n"
     ]
    }
   ],
   "source": [
    "race_means = us_census_melt.groupby('Race').RacePerc.mean().reset_index().sort_values('RacePerc', ascending=False)\n",
    "print(race_means)\n",
    "\n",
    "### Another option to make sorted bars\n",
    "# means = [us_census.iloc[:, x].mean() for x in range(2,8)]\n",
    "# labels = [us_census.columns[x] for x in range(2,8)]\n",
    "# sort_list = list(zip(means, labels))\n",
    "# sort_list.sort(reverse=True)\n",
    "# means = [x[0] for x in sort_list]\n",
    "# labels = [x[1] for x in sort_list]"
   ]
  },
  {
   "cell_type": "code",
   "execution_count": 40,
   "id": "eac7c968",
   "metadata": {},
   "outputs": [
    {
     "data": {
      "image/png": "[encoded data removed]",
      "text/plain": [
       "<Figure size 432x288 with 1 Axes>"
      ]
     },
     "metadata": {
      "needs_background": "light"
     },
     "output_type": "display_data"
    }
   ],
   "source": [
    "means = race_means.RacePerc\n",
    "labels = race_means.Race\n",
    "\n",
    "x = range(len(labels))\n",
    "\n",
    "fig, ax = plt.subplots()\n",
    "plt.bar(x, means)\n",
    "ax.set_ylabel('Mean Percent, %')\n",
    "ax.set_title('Race Bar Chart')\n",
    "ax.set_xticks(x)\n",
    "ax.set_xticklabels(labels)\n",
    "plt.show()\n",
    "plt.close()"
   ]
  },
  {
   "cell_type": "code",
   "execution_count": 41,
   "id": "4776b04b",
   "metadata": {},
   "outputs": [
    {
     "data": {
      "image/png": "[encoded data removed]",
      "text/plain": [
       "<Figure size 432x288 with 1 Axes>"
      ]
     },
     "metadata": {
      "needs_background": "light"
     },
     "output_type": "display_data"
    }
   ],
   "source": [
    "fig, ax = plt.subplots()\n",
    "plt.hist(us_census.Income)\n",
    "# plt.xticks(bins)\n",
    "ax.set_title('Income Distribution')\n",
    "plt.show()\n",
    "plt.close()"
   ]
  },
  {
   "cell_type": "code",
   "execution_count": 42,
   "id": "1306640c",
   "metadata": {},
   "outputs": [
    {
     "data": {
      "image/png": "[encoded data removed]",
      "text/plain": [
       "<Figure size 432x288 with 1 Axes>"
      ]
     },
     "metadata": {
      "needs_background": "light"
     },
     "output_type": "display_data"
    },
    {
     "data": {
      "image/png": "[encoded data removed]",
      "text/plain": [
       "<Figure size 432x288 with 1 Axes>"
      ]
     },
     "metadata": {
      "needs_background": "light"
     },
     "output_type": "display_data"
    },
    {
     "data": {
      "image/png": "[encoded data removed]",
      "text/plain": [
       "<Figure size 432x288 with 1 Axes>"
      ]
     },
     "metadata": {
      "needs_background": "light"
     },
     "output_type": "display_data"
    },
    {
     "data": {
      "image/png": "[encoded data removed]",
      "text/plain": [
       "<Figure size 432x288 with 1 Axes>"
      ]
     },
     "metadata": {
      "needs_background": "light"
     },
     "output_type": "display_data"
    },
    {
     "data": {
      "image/png": "[encoded data removed]",
      "text/plain": [
       "<Figure size 432x288 with 1 Axes>"
      ]
     },
     "metadata": {
      "needs_background": "light"
     },
     "output_type": "display_data"
    },
    {
     "data": {
      "image/png": "[encoded data removed]",
      "text/plain": [
       "<Figure size 432x288 with 1 Axes>"
      ]
     },
     "metadata": {
      "needs_background": "light"
     },
     "output_type": "display_data"
    }
   ],
   "source": [
    "fig, ax = plt.subplots()\n",
    "plt.hist(us_census.White)\n",
    "ax.set_title('White Distribution')\n",
    "plt.show()\n",
    "plt.close()\n",
    "\n",
    "fig, ax = plt.subplots()\n",
    "plt.hist(us_census.Hispanic)\n",
    "ax.set_title('Hispanic Distribution')\n",
    "plt.show()\n",
    "plt.close()\n",
    "\n",
    "fig, ax = plt.subplots()\n",
    "plt.hist(us_census.Black)\n",
    "ax.set_title('Black Distribution')\n",
    "plt.show()\n",
    "plt.close()\n",
    "\n",
    "fig, ax = plt.subplots()\n",
    "plt.hist(us_census.Asian)\n",
    "ax.set_title('Asian Distribution')\n",
    "plt.show()\n",
    "plt.close()\n",
    "\n",
    "fig, ax = plt.subplots()\n",
    "plt.hist(us_census.Native)\n",
    "ax.set_title('Native Distribution')\n",
    "plt.show()\n",
    "plt.close()\n",
    "\n",
    "fig, ax = plt.subplots()\n",
    "plt.hist(us_census.Pacific)\n",
    "ax.set_title('Pacific Distribution')\n",
    "plt.show()\n",
    "plt.close()\n"
   ]
  },
  {
   "cell_type": "code",
   "execution_count": null,
   "id": "84304682",
   "metadata": {},
   "outputs": [],
   "source": []
  }
 ],
 "metadata": {
  "kernelspec": {
   "display_name": "Python 3",
   "language": "python",
   "name": "python3"
  },
  "language_info": {
   "codemirror_mode": {
    "name": "ipython",
    "version": 3
   },
   "file_extension": ".py",
   "mimetype": "text/x-python",
   "name": "python",
   "nbconvert_exporter": "python",
   "pygments_lexer": "ipython3",
   "version": "3.8.8"
  }
 },
 "nbformat": 4,
 "nbformat_minor": 5
}
