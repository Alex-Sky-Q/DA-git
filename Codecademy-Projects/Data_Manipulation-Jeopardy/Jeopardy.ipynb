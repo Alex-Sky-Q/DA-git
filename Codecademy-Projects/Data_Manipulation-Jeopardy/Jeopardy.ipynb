{
 "cells": [
  {
   "cell_type": "code",
   "execution_count": 38,
   "id": "bd9c8bb6",
   "metadata": {},
   "outputs": [
    {
     "name": "stdout",
     "output_type": "stream",
     "text": [
      "   Show Number    Air Date      Round                         Category  Value  \\\n",
      "0         4680  2004-12-31  Jeopardy!                          HISTORY   $200   \n",
      "1         4680  2004-12-31  Jeopardy!  ESPN's TOP 10 ALL-TIME ATHLETES   $200   \n",
      "2         4680  2004-12-31  Jeopardy!      EVERYBODY TALKS ABOUT IT...   $200   \n",
      "3         4680  2004-12-31  Jeopardy!                 THE COMPANY LINE   $200   \n",
      "4         4680  2004-12-31  Jeopardy!              EPITAPHS & TRIBUTES   $200   \n",
      "\n",
      "                                                                                                      Question  \\\n",
      "0             For the last 8 years of his life, Galileo was under house arrest for espousing this man's theory   \n",
      "1  No. 2: 1912 Olympian; football star at Carlisle Indian School; 6 MLB seasons with the Reds, Giants & Braves   \n",
      "2                     The city of Yuma in this state has a record average of 4,055 hours of sunshine each year   \n",
      "3                         In 1963, live on \"The Art Linkletter Show\", this company served its billionth burger   \n",
      "4     Signer of the Dec. of Indep., framer of the Constitution of Mass., second President of the United States   \n",
      "\n",
      "       Answer  \n",
      "0  Copernicus  \n",
      "1  Jim Thorpe  \n",
      "2     Arizona  \n",
      "3  McDonald's  \n",
      "4  John Adams  \n"
     ]
    }
   ],
   "source": [
    "import pandas as pd\n",
    "import re\n",
    "import random as rd\n",
    "\n",
    "pd.set_option('display.max_colwidth', None)\n",
    "\n",
    "jp = pd.read_csv('jeopardy.csv')\n",
    "print(jp.head())\n",
    "jp.columns = [col.strip() for col in jp.columns]\n",
    "jp.Value = jp.Value.replace('[\\$,]', '', regex=True)\n",
    "jp.Value = pd.to_numeric(jp.Value.replace('None', value=None, regex=True))\n",
    "jp.Value = jp.fillna(value=jp.Value.max())\n",
    "jp['Air Date'] = pd.to_datetime(jp['Air Date'])"
   ]
  },
  {
   "cell_type": "code",
   "execution_count": 25,
   "id": "ff05da65",
   "metadata": {},
   "outputs": [
    {
     "name": "stdout",
     "output_type": "stream",
     "text": [
      "4953                             Both England's King George V & FDR put their stamp of approval on this \"King of Hobbies\"\n",
      "6337               In retaliation for Viking raids, this \"Unready\" king of England attacks Norse areas of the Isle of Man\n",
      "9191                             This king of England beat the odds to trounce the French in the 1415 Battle of Agincourt\n",
      "13454                                                It's the number that followed the last king of England named William\n",
      "14912                   This country's King Louis IV was nicknamed \"Louis From Overseas\" because he was raised in England\n",
      "                                                               ...                                                       \n",
      "200369    8th C. King Offa built a 170-mile north-south dike that still partly marks the border of England & this country\n",
      "201168                                           Popular Saint-Exupery character waiting around to become king of England\n",
      "208742                               Dutch-born king who ruled England jointly with Mary II & is a tasty New Zealand fish\n",
      "213870                         In 1781 William Herschel discovered Uranus & initially named it after this king of England\n",
      "216021                   His nickname was \"Bertie\", but he used this name & number when he became king of England in 1901\n",
      "Name: Question, Length: 95, dtype: object\n"
     ]
    }
   ],
   "source": [
    "lst = ['King', 'England']\n",
    "lambda_func = lambda x: all(word in x.Question for word in lst)\n",
    "\n",
    "\n",
    "def find_seq_col(x, seq, col):\n",
    "  return all(word.lower() in re.split(r'[\\s\\']', x[col].lower()) for word in seq)\n",
    "\n",
    "\n",
    "# print(jp[jp.apply(lambda_func, axis=1)])\n",
    "print(jp[jp.apply(find_seq_col, axis=1, seq=lst, col='Question')].Question)"
   ]
  },
  {
   "cell_type": "code",
   "execution_count": 29,
   "id": "d2abcd85",
   "metadata": {},
   "outputs": [
    {
     "name": "stdout",
     "output_type": "stream",
     "text": [
      "3810.221052631579\n"
     ]
    }
   ],
   "source": [
    "quest_df = jp[jp.apply(find_seq_col, axis=1, seq=lst, col='Question')]\n",
    "mean_quest = quest_df.Value.mean()\n",
    "print(mean_quest)"
   ]
  },
  {
   "cell_type": "code",
   "execution_count": 30,
   "id": "44c6690b",
   "metadata": {},
   "outputs": [
    {
     "name": "stdout",
     "output_type": "stream",
     "text": [
      "88268\n",
      "73\n",
      "William the Conqueror        4\n",
      "Henry VIII                   3\n",
      "George I                     3\n",
      "Richard the Lionhearted      3\n",
      "Nassau                       2\n",
      "                            ..\n",
      "Alfred the Great             1\n",
      "Catherine Parr               1\n",
      "The Magna Carta              1\n",
      "George Frideric Handel       1\n",
      "The Prince and the Pauper    1\n",
      "Name: Answer, Length: 73, dtype: int64\n"
     ]
    }
   ],
   "source": [
    "def uniq_answ_cnt(df, col):\n",
    "  return df[col].nunique()\n",
    "\n",
    "\n",
    "print(uniq_answ_cnt(jp, 'Answer'))\n",
    "print(uniq_answ_cnt(quest_df, 'Answer'))\n",
    "\n",
    "print(quest_df.Answer.value_counts())"
   ]
  },
  {
   "cell_type": "code",
   "execution_count": 32,
   "id": "4f0aae8e",
   "metadata": {},
   "outputs": [
    {
     "name": "stdout",
     "output_type": "stream",
     "text": [
      "72\n",
      "252\n"
     ]
    }
   ],
   "source": [
    "topic = ['Computer']\n",
    "\n",
    "jp90 = jp[jp['Air Date'] < '2000-01-01'] \n",
    "jp00 = jp[jp['Air Date'] >= '2000-01-01'] \n",
    "# print(jp00['Question'].head())\n",
    "\n",
    "print(len(jp90[jp90.apply(find_seq_col, axis=1, seq=topic, col='Question')].Question))\n",
    "print(len(jp00[jp00.apply(find_seq_col, axis=1, seq=topic, col='Question')].Question))"
   ]
  },
  {
   "cell_type": "code",
   "execution_count": 33,
   "id": "d04114cd",
   "metadata": {},
   "outputs": [
    {
     "name": "stdout",
     "output_type": "stream",
     "text": [
      "408\n",
      "1051\n"
     ]
    }
   ],
   "source": [
    "cat = ['Literature']\n",
    "\n",
    "jp_single = jp[jp.Round == 'Jeopardy!']\n",
    "jp_double = jp[jp.Round == 'Double Jeopardy!']\n",
    "print(len(jp_single[jp_single.apply(find_seq_col, axis=1, seq=cat, col='Category')].Question))\n",
    "print(len(jp_double[jp_double.apply(find_seq_col, axis=1, seq=cat, col='Category')].Question))"
   ]
  },
  {
   "cell_type": "code",
   "execution_count": 48,
   "id": "67a88781",
   "metadata": {},
   "outputs": [
    {
     "name": "stdout",
     "output_type": "stream",
     "text": [
      "Bemz sells covers in bright decorator colors for the furniture of this other Swedish company. Ikea\n"
     ]
    }
   ],
   "source": [
    "rand_q = rd.randrange(len(jp))\n",
    "answ = input(jp.Question[rand_q] + '. ')"
   ]
  },
  {
   "cell_type": "code",
   "execution_count": 49,
   "id": "bab204aa",
   "metadata": {},
   "outputs": [
    {
     "name": "stdout",
     "output_type": "stream",
     "text": [
      "You are right. The answer is \"IKEA\"\n"
     ]
    }
   ],
   "source": [
    "if answ.lower() == jp.Answer[rand_q].lower():\n",
    "    print(f'You are right. The answer is \"{jp.Answer[rand_q]}\"')\n",
    "else:\n",
    "    print(f'Well, not. The right answer is \"{jp.Answer[rand_q]}\"')"
   ]
  },
  {
   "cell_type": "code",
   "execution_count": null,
   "id": "5dae0556",
   "metadata": {},
   "outputs": [],
   "source": []
  }
 ],
 "metadata": {
  "kernelspec": {
   "display_name": "Python 3",
   "language": "python",
   "name": "python3"
  },
  "language_info": {
   "codemirror_mode": {
    "name": "ipython",
    "version": 3
   },
   "file_extension": ".py",
   "mimetype": "text/x-python",
   "name": "python",
   "nbconvert_exporter": "python",
   "pygments_lexer": "ipython3",
   "version": "3.8.8"
  }
 },
 "nbformat": 4,
 "nbformat_minor": 5
}
