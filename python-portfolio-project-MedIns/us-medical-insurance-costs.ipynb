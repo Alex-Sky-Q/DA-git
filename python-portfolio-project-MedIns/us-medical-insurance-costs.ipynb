{
 "cells": [
  {
   "cell_type": "markdown",
   "metadata": {},
   "source": [
    "# U.S. Medical Insurance Costs"
   ]
  },
  {
   "cell_type": "markdown",
   "metadata": {},
   "source": [
    "Data Source: https://www.kaggle.com/mirichoi0218/insurance <br>\n",
    "For [Data Analyst Career Path](https://www.codecademy.com/learn/paths/data-analyst) on Codecademy"
   ]
  },
  {
   "cell_type": "markdown",
   "metadata": {},
   "source": [
    "- Find out the average age of the patients in the dataset\n",
    "- Analyze where a majority of the individuals are from\n",
    "- Look at the different costs between smokers vs. non-smokers\n",
    "- Figure out what the average age is for someone who has at least one child in this dataset\n",
    "- Optional: Document and organize your findings into dictionaries, lists, or another convenient datatype\n",
    "- Optional: Make predictions about a dataset’s features based on your findings: what features are the most influential for an individual’s medical insurance charges\n",
    "- Optional: Explore areas where the data may include bias and how that would impact potential use cases"
   ]
  },
  {
   "cell_type": "code",
   "execution_count": 197,
   "metadata": {},
   "outputs": [],
   "source": [
    "import csv\n",
    "import numpy as np\n",
    "\n",
    "main_data = []\n",
    "ages = []\n",
    "regions = []\n",
    "bmis = []\n",
    "ins_costs = []\n",
    "\n",
    "with open('insurance.csv') as data_file:\n",
    "    dataread = csv.DictReader(data_file)\n",
    "    for r in dataread:\n",
    "        line = {}\n",
    "        for k, v in r.items():\n",
    "            if k == 'age':\n",
    "                v = int(v)\n",
    "                ages.append(v)\n",
    "            if k == 'bmi':\n",
    "                v = float(v)\n",
    "                bmis.append(v)\n",
    "            if k == 'children':\n",
    "                v = int(v)\n",
    "            if k == 'charges':\n",
    "                v = float(v)\n",
    "                ins_costs.append(v)\n",
    "            line.update({k: v})\n",
    "        main_data.append(line)\n",
    "        regions.append(r['region'])\n",
    "\n",
    "# Option 2 for making separate lists        \n",
    "# ages = [a['age'] for a in main_data]\n",
    "# regions = [a['region'] for a in main_data]\n",
    "# print(main_data[0])\n",
    "\n",
    "\n",
    "def find_aver(lst):\n",
    "    if lst == 'age':\n",
    "        aver_age = round(np.mean(ages), 1)\n",
    "        print(f'The average age is {aver_age} years')\n",
    "    elif lst == 'bmi':\n",
    "        aver_bmi = round(np.mean(bmis), 2)\n",
    "        print(f'The average BMI is {aver_bmi}')\n",
    "    elif lst == 'cost':\n",
    "        aver_cost = round(np.mean(ins_costs), 2)\n",
    "        print(f'The average ins cost is ${aver_cost}')\n",
    "    else:\n",
    "        print('This argument does not exist yet')"
   ]
  },
  {
   "cell_type": "markdown",
   "metadata": {},
   "source": [
    "- Find out the **average age** of the patients in the dataset"
   ]
  },
  {
   "cell_type": "code",
   "execution_count": 199,
   "metadata": {},
   "outputs": [
    {
     "name": "stdout",
     "output_type": "stream",
     "text": [
      "The average age is 39.2 years\n"
     ]
    }
   ],
   "source": [
    "find_aver('age')"
   ]
  },
  {
   "cell_type": "markdown",
   "metadata": {},
   "source": [
    "- Analyze **where a majority of the individuals are from**"
   ]
  },
  {
   "cell_type": "code",
   "execution_count": 181,
   "metadata": {},
   "outputs": [
    {
     "name": "stdout",
     "output_type": "stream",
     "text": [
      "{'northwest': 325, 'northeast': 324, 'southwest': 325, 'southeast': 364}\n",
      "The majority is from South-East region\n"
     ]
    }
   ],
   "source": [
    "regions_set = list(set(regions))\n",
    "regions_count = {r: regions.count(regions_set[i]) for i, r in enumerate(regions_set)}\n",
    "print(regions_count)\n",
    "print(f'The majority is from South-East region')"
   ]
  },
  {
   "cell_type": "markdown",
   "metadata": {},
   "source": [
    "- Look at the **different costs between smokers vs. non-smokers**"
   ]
  },
  {
   "cell_type": "code",
   "execution_count": 155,
   "metadata": {},
   "outputs": [
    {
     "name": "stdout",
     "output_type": "stream",
     "text": [
      "The average diff is $23729.57\n",
      "There are 115 childless smokers. The average ins cost is: $31341.36\n",
      "There are 459 childless non-smokers. The average ins cost is: $7611.79\n"
     ]
    }
   ],
   "source": [
    "smok_cost = 0.0\n",
    "nonsmok_cost = 0.0\n",
    "smokers = 0\n",
    "nonsmokers = 0\n",
    "\n",
    "for r in main_data:\n",
    "    if r['children'] == 0:\n",
    "        if r['smoker'] == 'yes':\n",
    "            smok_cost += r['charges']\n",
    "            smokers += 1\n",
    "        else:\n",
    "            nonsmok_cost += r['charges']\n",
    "            nonsmokers += 1\n",
    "\n",
    "smok_aver_cost = round(smok_cost / smokers, 2)\n",
    "nonsmok_aver_cost = round(nonsmok_cost / nonsmokers, 2)\n",
    "\n",
    "sm_coeff = smok_aver_cost - nonsmok_aver_cost\n",
    "print(f'The average diff is ${sm_coeff}')\n",
    "\n",
    "print(f'There are {smokers} childless smokers. The average ins cost is: ${smok_aver_cost}')\n",
    "print(f'There are {nonsmokers} childless non-smokers. The average ins cost is: ${nonsmok_aver_cost}')"
   ]
  },
  {
   "cell_type": "markdown",
   "metadata": {},
   "source": [
    "How do they check smoking status? Only by words?"
   ]
  },
  {
   "cell_type": "markdown",
   "metadata": {},
   "source": [
    "- Figure out what the average age is for someone who has at least one child in this dataset"
   ]
  },
  {
   "cell_type": "code",
   "execution_count": 184,
   "metadata": {},
   "outputs": [
    {
     "name": "stdout",
     "output_type": "stream",
     "text": [
      "The average age of people with at least one child is 39.78 years\n"
     ]
    }
   ],
   "source": [
    "tot_age = 0\n",
    "fam_count = 0\n",
    "\n",
    "for r in main_data:\n",
    "    if r['children'] != 0:\n",
    "        tot_age += r['age']\n",
    "        fam_count += 1\n",
    "        \n",
    "aver_fam_age = round(tot_age / fam_count, 2)\n",
    "print(f'The average age of people with at least one child is {aver_fam_age} years')"
   ]
  },
  {
   "cell_type": "markdown",
   "metadata": {},
   "source": [
    "- **Optional:** Make predictions about a dataset’s features based on your findings: what features are the most influential for an individual’s medical insurance charges"
   ]
  },
  {
   "cell_type": "markdown",
   "metadata": {},
   "source": [
    "- We can estimate **ins cost diff based on sex** <br/>\n",
    "We won't include smokers because it increases cost a lot. And we try to exclude people with children"
   ]
  },
  {
   "cell_type": "code",
   "execution_count": 157,
   "metadata": {},
   "outputs": [
    {
     "name": "stdout",
     "output_type": "stream",
     "text": [
      "The average diff is $-157.51\n",
      "There are 223 non-smokers childless men. The average ins cost is: $7530.81\n",
      "There are 236 non-smokers childless women. The average ins cost is: $7688.32\n"
     ]
    }
   ],
   "source": [
    "men_cost = 0.0\n",
    "women_cost = 0.0\n",
    "men = 0\n",
    "women = 0\n",
    "\n",
    "for r in main_data:\n",
    "    if r['smoker'] == 'no' and r['children'] == 0:\n",
    "        if r['sex'] == 'male':\n",
    "            men_cost += r['charges']\n",
    "            men += 1\n",
    "        else:\n",
    "            women_cost += r['charges']\n",
    "            women += 1\n",
    "\n",
    "men_aver_cost = round(men_cost / men, 2)\n",
    "women_aver_cost = round(women_cost / women, 2)\n",
    "\n",
    "sx_coeff = round(men_aver_cost - women_aver_cost, 2)\n",
    "print(f'The average diff is ${sx_coeff}')\n",
    "\n",
    "print(f'There are {men} non-smokers childless men. The average ins cost is: ${men_aver_cost}')\n",
    "print(f'There are {women} non-smokers childless women. The average ins cost is: ${women_aver_cost}')"
   ]
  },
  {
   "cell_type": "markdown",
   "metadata": {},
   "source": [
    "- We can estimate **ins cost diff based on children count** <br/>\n",
    "We won't include smokers because it increases cost a lot"
   ]
  },
  {
   "cell_type": "code",
   "execution_count": 158,
   "metadata": {},
   "outputs": [
    {
     "name": "stdout",
     "output_type": "stream",
     "text": [
      "The average diff for 1 child vs 0 child is $691.32\n",
      "The average diff for 2 children vs 1 children is $1189.98\n",
      "The average diff for 3 children vs 2 children is $121.43\n",
      "There are 459 people with 0 child. The average ins cost is: $7611.79\n",
      "There are 263 people with 1 child. The average ins cost is: $8303.11\n",
      "There are 185 people with 2 child. The average ins cost is: $9493.09\n",
      "There are 118 people with 3 child. The average ins cost is: $9614.52\n",
      "There are 22 people with 4 child. The average ins cost is: $12121.34\n",
      "There are 17 people with 5 child. The average ins cost is: $8183.85\n"
     ]
    }
   ],
   "source": [
    "ch0_cost = 0.0\n",
    "ch1_cost = 0.0\n",
    "ch2_cost = 0.0\n",
    "ch3_cost = 0.0\n",
    "ch4_cost = 0.0\n",
    "ch5_cost = 0.0\n",
    "ch0 = 0\n",
    "ch1 = 0\n",
    "ch2 = 0\n",
    "ch3 = 0\n",
    "ch4 = 0\n",
    "ch5 = 0\n",
    "\n",
    "for r in main_data:\n",
    "    if r['smoker'] == 'no':\n",
    "        if r['children'] == 0:\n",
    "            ch0_cost += r['charges']\n",
    "            ch0 += 1\n",
    "        elif r['children'] == 1:\n",
    "            ch1_cost += r['charges']\n",
    "            ch1 += 1\n",
    "        elif r['children'] == 2:\n",
    "            ch2_cost += r['charges']\n",
    "            ch2 += 1           \n",
    "        elif r['children'] == 3:\n",
    "            ch3_cost += r['charges']\n",
    "            ch3 += 1            \n",
    "        elif r['children'] == 4:\n",
    "            ch4_cost += r['charges']\n",
    "            ch4 += 1            \n",
    "        elif r['children'] == 5:\n",
    "            ch5_cost += r['charges']\n",
    "            ch5 += 1\n",
    "            \n",
    "ch0_aver_cost = round(ch0_cost / ch0, 2)\n",
    "ch1_aver_cost = round(ch1_cost / ch1, 2)\n",
    "ch2_aver_cost = round(ch2_cost / ch2, 2)\n",
    "ch3_aver_cost = round(ch3_cost / ch3, 2)\n",
    "ch4_aver_cost = round(ch4_cost / ch4, 2)\n",
    "ch5_aver_cost = round(ch5_cost / ch5, 2)\n",
    "\n",
    "ch1_coeff = round(ch1_aver_cost - ch0_aver_cost, 2)\n",
    "print(f'The average diff for 1 child vs 0 child is ${ch1_coeff}')\n",
    "ch2_coeff = round(ch2_aver_cost - ch1_aver_cost, 2)\n",
    "print(f'The average diff for 2 children vs 1 children is ${ch2_coeff}')\n",
    "ch3_coeff = round(ch3_aver_cost - ch2_aver_cost, 2)\n",
    "print(f'The average diff for 3 children vs 2 children is ${ch3_coeff}')\n",
    "\n",
    "print(f'There are {ch0} people with 0 child. The average ins cost is: ${ch0_aver_cost}')\n",
    "print(f'There are {ch1} people with 1 child. The average ins cost is: ${ch1_aver_cost}')\n",
    "print(f'There are {ch2} people with 2 child. The average ins cost is: ${ch2_aver_cost}')\n",
    "print(f'There are {ch3} people with 3 child. The average ins cost is: ${ch3_aver_cost}')\n",
    "print(f'There are {ch4} people with 4 child. The average ins cost is: ${ch4_aver_cost}')\n",
    "print(f'There are {ch5} people with 5 child. The average ins cost is: ${ch5_aver_cost}')"
   ]
  },
  {
   "cell_type": "markdown",
   "metadata": {},
   "source": [
    "- We can estimate **ins cost diff based on age**"
   ]
  },
  {
   "cell_type": "code",
   "execution_count": 188,
   "metadata": {},
   "outputs": [
    {
     "name": "stdout",
     "output_type": "stream",
     "text": [
      "The average increase in ins cost is $344.45 for one year\n"
     ]
    }
   ],
   "source": [
    "# Option 1\n",
    "ages_range = range(min(ages), max(ages)+1)\n",
    "age_cost = {}\n",
    "\n",
    "for age in ages_range:\n",
    "    cost = 0.0\n",
    "    count = 0\n",
    "    for r in main_data:\n",
    "        if r['age'] == age:\n",
    "            cost += r['charges']\n",
    "            count += 1\n",
    "    if count != 0:\n",
    "        aver_cost = round(cost / count, 2)\n",
    "        age_cost.update({age: {'Count': count, 'Aver Cost': aver_cost}})\n",
    "\n",
    "# Option 2. Here we have to sort the dict, so I decided to continue with Option 1\n",
    "# for r in main_data:\n",
    "#     cost = 0.0\n",
    "#     count = 0\n",
    "#     if r['age'] not in age_cost:\n",
    "#         for i in main_data:\n",
    "#             if r['age'] == i['age']:\n",
    "#                 cost += i['charges']\n",
    "#                 count += 1\n",
    "#     if count != 0:\n",
    "#         aver_cost = round(cost / count, 2)\n",
    "#         age_cost.update({r['age']: {'Count': count, 'Aver Cost': aver_cost}})            \n",
    "        \n",
    "diff_total = 0\n",
    "aver_costs = [age_cost[r]['Aver Cost'] for r in age_cost]\n",
    "for k in range(len(aver_costs)-1):\n",
    "    diff = aver_costs[k+1] - aver_costs[k]\n",
    "    diff_total += diff\n",
    "    \n",
    "aver_diff = round(diff_total / len(aver_costs), 2)\n",
    "print(f'The average increase in ins cost is ${aver_diff} for one year')\n",
    "# print(age_cost)"
   ]
  },
  {
   "cell_type": "markdown",
   "metadata": {},
   "source": [
    "- This is the simple func to return **average ins cost for each age**<br/>\n",
    "(Based on dict created on the above step)"
   ]
  },
  {
   "cell_type": "code",
   "execution_count": 194,
   "metadata": {},
   "outputs": [
    {
     "name": "stdout",
     "output_type": "stream",
     "text": [
      "The average cost for 19 years old is: $9747.91\n"
     ]
    }
   ],
   "source": [
    "# average cost for given age\n",
    "\n",
    "def aver_cost_age(age):\n",
    "    try:\n",
    "        print(f\"The average cost for {age} years old is: ${age_cost[age]['Aver Cost']}\")\n",
    "    except KeyError:\n",
    "        print(f'The age {age} does not exist in the dataset. Please provide an age between {min(ages)} and {max(ages)} years')\n",
    "\n",
    "aver_cost_age(19)"
   ]
  },
  {
   "cell_type": "markdown",
   "metadata": {},
   "source": [
    "- We can estimate **ins cost diff based on BMI**<br/>\n",
    "We try not to include people with children because it increases cost"
   ]
  },
  {
   "cell_type": "code",
   "execution_count": 160,
   "metadata": {},
   "outputs": [
    {
     "name": "stdout",
     "output_type": "stream",
     "text": [
      "The average diff for normal BMI vs below norm BMI is: $671.1\n",
      "The average diff for above normal BMI vs norm BMI is: $596.33\n",
      "The average diff for obesity BMI vs above norm BMI is: $500.7\n",
      "There are 9 people with BMI below normal. The average ins cost is: $6203.55\n",
      "There are 74 people with BMI in normal zone. The average ins cost is: $6874.65\n",
      "There are 136 people with BMI above normal. The average ins cost is: $7470.98\n",
      "There are 240 people with BMI in obesity zone. The average ins cost is: $7971.68\n"
     ]
    }
   ],
   "source": [
    "# average cost for bmi levels\n",
    "\n",
    "bmi_levels = {'Below normal': 18.5, 'Normal': 25, 'Above Normal': 30}\n",
    "\n",
    "bmi_below_cost = 0.0\n",
    "bmi_norm_cost = 0.0\n",
    "bmi_abovenorm_cost = 0.0\n",
    "bmi_obes_cost = 0.0\n",
    "bmi_below = 0\n",
    "bmi_norm = 0\n",
    "bmi_abovenorm = 0\n",
    "bmi_obes = 0\n",
    "\n",
    "for r in main_data:\n",
    "    if r['smoker'] == 'no' and r['children'] == 0:\n",
    "        if r['bmi'] < 18.5:\n",
    "            bmi_below_cost += r['charges']\n",
    "            bmi_below += 1\n",
    "        elif 18.5 <= r['bmi'] < 25:\n",
    "            bmi_norm_cost += r['charges']\n",
    "            bmi_norm += 1\n",
    "        elif 25 <= r['bmi'] < 30:\n",
    "            bmi_abovenorm_cost += r['charges']\n",
    "            bmi_abovenorm += 1           \n",
    "        elif r['bmi'] >= 30:\n",
    "            bmi_obes_cost += r['charges']\n",
    "            bmi_obes += 1            \n",
    "            \n",
    "bmi_below_avcost = round(bmi_below_cost / bmi_below, 2)\n",
    "bmi_norm_avcost = round(bmi_norm_cost / bmi_norm, 2)\n",
    "bmi_abovenorm_avcost = round(bmi_abovenorm_cost / bmi_abovenorm, 2)\n",
    "bmi_obes_avcost = round(bmi_obes_cost / bmi_obes, 2)\n",
    "\n",
    "bmi_norm_diff = round(bmi_norm_avcost - bmi_below_avcost, 2)\n",
    "print(f'The average diff for normal BMI vs below norm BMI is: ${bmi_norm_diff}')\n",
    "bmi_abovenorm_diff = round(bmi_abovenorm_avcost - bmi_norm_avcost, 2)\n",
    "print(f'The average diff for above normal BMI vs norm BMI is: ${bmi_abovenorm_diff}')\n",
    "bmi_obes_diff = round(bmi_obes_avcost - bmi_abovenorm_avcost, 2)\n",
    "print(f'The average diff for obesity BMI vs above norm BMI is: ${bmi_obes_diff}')\n",
    "\n",
    "\n",
    "print(f'There are {bmi_below} people with BMI below normal. The average ins cost is: ${bmi_below_avcost}')\n",
    "print(f'There are {bmi_norm} people with BMI in normal zone. The average ins cost is: ${bmi_norm_avcost}')\n",
    "print(f'There are {bmi_abovenorm} people with BMI above normal. The average ins cost is: ${bmi_abovenorm_avcost}')\n",
    "print(f'There are {bmi_obes} people with BMI in obesity zone. The average ins cost is: ${bmi_obes_avcost}')\n"
   ]
  },
  {
   "cell_type": "markdown",
   "metadata": {},
   "source": [
    "- Just **averages for BMI and ins cost**"
   ]
  },
  {
   "cell_type": "code",
   "execution_count": 200,
   "metadata": {},
   "outputs": [
    {
     "name": "stdout",
     "output_type": "stream",
     "text": [
      "The average BMI is 30.66\n",
      "The average ins cost is $13270.42\n"
     ]
    }
   ],
   "source": [
    "find_aver('bmi')\n",
    "find_aver('cost')"
   ]
  },
  {
   "cell_type": "markdown",
   "metadata": {},
   "source": [
    "We can see that average BMI is slightly in obesity area."
   ]
  },
  {
   "cell_type": "markdown",
   "metadata": {},
   "source": [
    "- Optional: Explore areas where the data may include **bias** and how that would impact potential use cases\n",
    "\n",
    "There are not so many people with 4 or more children, so for example people with 5 children have lesser ins cost than people with 1 child. And people with 4 child have some kind of outlier."
   ]
  },
  {
   "cell_type": "code",
   "execution_count": null,
   "metadata": {},
   "outputs": [],
   "source": []
  }
 ],
 "metadata": {
  "kernelspec": {
   "display_name": "Python 3",
   "language": "python",
   "name": "python3"
  },
  "language_info": {
   "codemirror_mode": {
    "name": "ipython",
    "version": 3
   },
   "file_extension": ".py",
   "mimetype": "text/x-python",
   "name": "python",
   "nbconvert_exporter": "python",
   "pygments_lexer": "ipython3",
   "version": "3.8.8"
  }
 },
 "nbformat": 4,
 "nbformat_minor": 4
}
